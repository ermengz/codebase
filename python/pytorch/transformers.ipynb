{
 "cells": [
  {
   "cell_type": "markdown",
   "id": "5dc5d2d1-2ff4-41e0-943a-bdd20cf70af9",
   "metadata": {},
   "source": [
    "# transformers\n",
    "\n",
    "transformers入门基础"
   ]
  },
  {
   "cell_type": "code",
   "execution_count": null,
   "id": "d17a7ab3-5268-4040-b76e-66846d5ac096",
   "metadata": {
    "tags": []
   },
   "outputs": [],
   "source": [
    "from transformers import pipeline"
   ]
  },
  {
   "cell_type": "code",
   "execution_count": null,
   "id": "2a31561b-f2c8-4b7d-9e9a-edf1e0989d22",
   "metadata": {
    "tags": []
   },
   "outputs": [],
   "source": [
    "classifier = pipeline(\"sentiment-analysis\",)\n",
    "classifier(\"We are very happy to show you the 🤗 Transformers library.\")"
   ]
  },
  {
   "cell_type": "code",
   "execution_count": null,
   "id": "0ed7df3c-96dd-48cd-a3d1-3dc32df3ff6e",
   "metadata": {},
   "outputs": [],
   "source": [
    "classifier(\n",
    "        [\n",
    "            \"I like yuo.\",\n",
    "            \"I hate you.\"\n",
    "        ]\n",
    "    )"
   ]
  },
  {
   "cell_type": "markdown",
   "id": "7121ff7a-ad26-43b2-8fb1-43f697a6609e",
   "metadata": {},
   "source": [
    "# pytorch\n",
    "\n",
    "## 数据结构\n",
    "- torch.Tensor()\n",
    "- torch.tensor()\n",
    "\n",
    "## 模型建立方式"
   ]
  },
  {
   "cell_type": "code",
   "execution_count": null,
   "id": "06752137-1451-4c64-ae5d-f1c453a07970",
   "metadata": {},
   "outputs": [],
   "source": [
    "import torch\n",
    "import torch.nn as nn\n",
    "print(torch.__version__)"
   ]
  },
  {
   "cell_type": "code",
   "execution_count": null,
   "id": "57a1cd60",
   "metadata": {},
   "outputs": [],
   "source": [
    "da = torch.Tensor([1,2,3]).type(torch.LongTensor)\n",
    "print(da)\n",
    "print(type(da))"
   ]
  },
  {
   "cell_type": "code",
   "execution_count": null,
   "id": "c020e6cc",
   "metadata": {},
   "outputs": [],
   "source": [
    "class net(torch.nn.Module):\n",
    "    def __init__(self, *args, **kwargs) -> None:\n",
    "        super().__init__(*args, **kwargs)\n",
    "        self.fc1 = torch.nn.Sequential(nn.Linear(10,2),nn.ReLU())\n",
    "    def forward(self,x):\n",
    "        out = self.fc1(x)\n",
    "        return out\n",
    "net = net()\n",
    "print(net)\n",
    "\n",
    "# torch.nn.Module 常用的方法"
   ]
  }
 ],
 "metadata": {
  "kernelspec": {
   "display_name": "python3.8",
   "language": "python",
   "name": "python3"
  },
  "language_info": {
   "codemirror_mode": {
    "name": "ipython",
    "version": 3
   },
   "file_extension": ".py",
   "mimetype": "text/x-python",
   "name": "python",
   "nbconvert_exporter": "python",
   "pygments_lexer": "ipython3",
   "version": "3.8.18"
  }
 },
 "nbformat": 4,
 "nbformat_minor": 5
}
